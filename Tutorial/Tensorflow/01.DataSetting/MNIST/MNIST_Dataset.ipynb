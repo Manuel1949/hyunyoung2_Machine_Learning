{
 "cells": [
  {
   "cell_type": "markdown",
   "metadata": {
    "slideshow": {
     "slide_type": "slide"
    }
   },
   "source": [
    "# What is the MNIST ?\n",
    "\n",
    "MNIST is digit images as a simple computer vision dataset. the images of this dataset consist of handwirtten digits like these :\n",
    "\n",
    "<img src=\"https://raw.githubusercontent.com/hyunyoung2/Hyunyoung2_Machine_Learning/master/Tutorial/Tensorflow/01.DataSetting/images/MNIST/MNIST.png\" />\n",
    "\n",
    "It also includes labels for each image, letting us know which digit it is. For example, the labels for the above images ar 5, 0, 4, and 1. Basically, this dataset is comprised of digit  and the correponding label.\n"
   ]
  },
  {
   "cell_type": "markdown",
   "metadata": {
    "slideshow": {
     "slide_type": "subslide"
    }
   },
   "source": [
    "### The MNIST Data\n",
    "\n",
    "This MNIST data is hosted on [Yann LeCun's websit](http://yann.lecun.com/exdb/mnist). If you want to download and read MNIST data, these two lines is enough in Tensorflow. \n",
    "    \n",
    "```python\n",
    "from tensorflow.examples.tutorials.mnist import input_data\n",
    "mnist = input_data.read_data_sets(\"MNIST_data/\", one_hot=True)\n",
    "# one_hot means MNIST's label is the representaion of one-hot vector. (if one_hot is true)\n",
    "# if ont_hot is false, MNIST' label is just digit between 0 and 9 like these :\n",
    "# if MNIST's label is 3, [0, 0, 0, 1, 0, 0, 0, 0, 0, 0]\n",
    "```\n",
    "As I mentioned above, MNIST have two part, images and their correspoding labels. for example, **mnist.train.images** for traing images, and **mnist.train.labels** for their correspoding labels. \n"
   ]
  },
  {
   "cell_type": "markdown",
   "metadata": {
    "slideshow": {
     "slide_type": "subslide"
    }
   },
   "source": [
    "The pairs of images and labels split into something like the following.\n",
    "\n",
    "The MNIST data is split into three parts:\n",
    "\n",
    "- 55,000 data points of training data(minst.train)  \n",
    "- 10,000 points of test data(mnist.test)\n",
    "- 5000 points of validation data(mnist.validation)\n",
    "\n",
    "The above thing is basic composition set up of dataset for machine learning. i.e. The Dataset for Machine Learning is comprised of three parts like **train set, test set, validation set**.\n",
    "\n",
    "- train set : to train machine learning algorithms. \n",
    "- test set : to verify your machine learning algorithm what if it works in real world\n",
    "- validation : to adjust hyper parameter in your machine learning algorithm.\n"
   ]
  },
  {
   "cell_type": "markdown",
   "metadata": {
    "slideshow": {
     "slide_type": "subslide"
    }
   },
   "source": [
    "Each of images of MNIST is 28\\*28 pixels. If we interpret the each of images as a array, the size of a array is 28\\*28=784. it looks as follows. \n",
    "  \n",
    "<img src=\"https://raw.githubusercontent.com/hyunyoung2/Hyunyoung2_Machine_Learning/master/Tutorial/Tensorflow/01.DataSetting/images/MNIST/MNIST-Matrix.png\" />\n",
    "\n",
    "After making 28\\*28 pixels into a array(784), we just interpert each of image as a vector in vector space. i.e The MNIST images are just a bunch of points in a 784-dimensional vector space. \n",
    "  \n",
    "The below is how to download MNIST Dataset, When you want to implement tensorflow with MNIST. "
   ]
  },
  {
   "cell_type": "markdown",
   "metadata": {
    "slideshow": {
     "slide_type": "subslide"
    }
   },
   "source": [
    "## Reference \n",
    "\n",
    "- [MNIST's official site](http://yann.lecun.com/exdb/mnist/)  \n",
    "\n",
    "- [MNIST of tensorflow](https://www.tensorflow.org/get_started/mnist/beginners)  \n",
    "   \n",
    "- [Github of tensorflow](https://github.com/tensorflow)  "
   ]
  },
  {
   "cell_type": "code",
   "execution_count": 8,
   "metadata": {
    "slideshow": {
     "slide_type": "slide"
    }
   },
   "outputs": [
    {
     "name": "stdout",
     "output_type": "stream",
     "text": [
      "The version of tensorflow :  1.4.0 \n",
      "\n"
     ]
    }
   ],
   "source": [
    "# If you start the python setting \n",
    "# help(os-python keyword)\n",
    "\n",
    "# -- the version of python : 3.5 --\n",
    "# -- MNIST data set -- \n",
    "# In order to Create Directory to store material\n",
    "import os \n",
    "import tensorflow as tf\n",
    "\n",
    "# -- The version of Tensorflow is 1.3 --\n",
    "print(\"The version of tensorflow : \", tf.__version__ , \"\\n\")"
   ]
  },
  {
   "cell_type": "code",
   "execution_count": 9,
   "metadata": {
    "slideshow": {
     "slide_type": "subslide"
    }
   },
   "outputs": [
    {
     "name": "stdout",
     "output_type": "stream",
     "text": [
      "Creating a directory is done!\n"
     ]
    }
   ],
   "source": [
    "# Let's make donwload path \n",
    "name_dir=\"MNIST_Dataset\"\n",
    "\n",
    "# Get current Directory from \"https://stackoverflow.com/questions/5137497/find-current-directory-and-files-directory\"\n",
    "current_dir = os.getcwd()\n",
    "\n",
    "# Create New Directory \n",
    "new_dir = current_dir+\"/data/\"\n",
    "final_dir = new_dir+name_dir\n",
    "\n",
    "# Checking whether 'new_dir' exist or not\n",
    "if not os.path.isdir(new_dir) :\n",
    "    os.makedirs(new_dir)\n",
    "    print(\" '%s' is now in the '%s' \" % (final_dir, new_dir))\n",
    "\n",
    "# Checking whether 'final_dir' exist or not\n",
    "if not os.path.exists(final_dir) : \n",
    "    os.makedirs(final_dir)\n",
    "    print(\" '%s' exist \" % final_dir)    \n",
    "\n",
    "print(\"Creating a directory is done!\")"
   ]
  },
  {
   "cell_type": "code",
   "execution_count": 15,
   "metadata": {
    "scrolled": true,
    "slideshow": {
     "slide_type": "slide"
    }
   },
   "outputs": [
    {
     "name": "stdout",
     "output_type": "stream",
     "text": [
      "Extracting /home/hyunyoung2/My_lab/Hyunyoung2_Machine_Learning/Tutorial/Tensorflow/01.DataSetting/MNIST/data/MNIST_Dataset/train-images-idx3-ubyte.gz\n",
      "Extracting /home/hyunyoung2/My_lab/Hyunyoung2_Machine_Learning/Tutorial/Tensorflow/01.DataSetting/MNIST/data/MNIST_Dataset/train-labels-idx1-ubyte.gz\n",
      "Extracting /home/hyunyoung2/My_lab/Hyunyoung2_Machine_Learning/Tutorial/Tensorflow/01.DataSetting/MNIST/data/MNIST_Dataset/t10k-images-idx3-ubyte.gz\n",
      "Extracting /home/hyunyoung2/My_lab/Hyunyoung2_Machine_Learning/Tutorial/Tensorflow/01.DataSetting/MNIST/data/MNIST_Dataset/t10k-labels-idx1-ubyte.gz\n",
      "\n",
      " MNIST download and extracting is done!\n"
     ]
    }
   ],
   "source": [
    "# TensorFlow github : https://github.com/tensorflow\n",
    "# Download MNIST data set : \n",
    "# the location related to MNIST's readfunction ->  tensorflow.contrib.learn.pyton.learn.datasets.mnist.py\n",
    "# Data Structure checking 28*28 = 784 , this means one of image is 784 as a array.\n",
    "# if you set \"one_hot = True\" up, when trainY[0] equals 7, \n",
    "# Index of array of trainY[0]   0, 1, 2, 3, 4, 5, 6, 7, 8, 9\n",
    "#           print(trainY[0]) = [0. 0. 0. 0. 0. 0. 0. 1. 0. 0]\n",
    "# if you set \"one_hot = False\" up, when trainY[0] equals 7, \n",
    "#      print(trainY[0]) = 7\n",
    "# Whatever variable is, it doesn't matter, If you enter a string.\n",
    "# after creating directory named the string you chose, MNIST data is saved under the directory.\n",
    "from tensorflow.examples.tutorials.mnist import input_data\n",
    "mnist = input_data.read_data_sets(final_dir, one_hot=True)\n",
    "\n",
    "print(\"\\n MNIST download and extracting is done!\")"
   ]
  },
  {
   "cell_type": "code",
   "execution_count": 5,
   "metadata": {
    "slideshow": {
     "slide_type": "subslide"
    }
   },
   "outputs": [
    {
     "name": "stdout",
     "output_type": "stream",
     "text": [
      "\n",
      "MNIST dataset Complete!\n"
     ]
    }
   ],
   "source": [
    "# Let's check how to comprise MNIST data from google library, tensorflow\n",
    "\n",
    "# Load Data \n",
    "## For training \n",
    "trainX = mnist.train.images\n",
    "trainY = mnist.train.labels\n",
    "\n",
    "## For validation of hyperParameter\n",
    "validationX = mnist.validation.images\n",
    "validationY = mnist.validation.labels\n",
    "\n",
    "## For test \n",
    "testX = mnist.test.images\n",
    "testY = mnist.test.labels\n",
    "\n",
    "print(\"\\nMNIST dataset Complete!\")"
   ]
  },
  {
   "cell_type": "code",
   "execution_count": 12,
   "metadata": {
    "slideshow": {
     "slide_type": "subslide"
    }
   },
   "outputs": [
    {
     "name": "stdout",
     "output_type": "stream",
     "text": [
      "===What MNIST looks===\n",
      "\n",
      "The shape of trainX data : (55000, 784) float32\n",
      "The shape of trainY data : (55000, 10) float64\n",
      "TrainY[0] : [ 0.  0.  0.  0.  0.  0.  0.  1.  0.  0.]\n",
      "\n",
      "The shape of validationX data : (5000, 784) float32\n",
      "The shape of validationY data : (5000, 10) float64\n",
      "ValidationY[0] : [ 0.  0.  0.  0.  0.  1.  0.  0.  0.  0.]\n",
      "\n",
      "The shape of testX data : (10000, 784) float32\n",
      "The shape of testY data : (10000, 10) float64\n",
      "TestY[0]: [ 0.  0.  0.  0.  0.  0.  0.  1.  0.  0.]\n"
     ]
    }
   ],
   "source": [
    "# For test about what it looks \n",
    "print(\"===What MNIST looks===\\n\") # for new line\n",
    "print(\"The shape of trainX data :\", trainX.shape, trainX.dtype)\n",
    "print(\"The shape of trainY data :\", trainY.shape, trainY.dtype)\n",
    "print(\"TrainY[0] :\", trainY[0])\n",
    "print() # for newline\n",
    "print(\"The shape of validationX data :\", validationX.shape, validationX.dtype)\n",
    "print(\"The shape of validationY data :\", validationY.shape, validationY.dtype)\n",
    "print(\"ValidationY[0] :\", validationY[0])\n",
    "print() # for newline\n",
    "print(\"The shape of testX data :\", testX.shape, testX.dtype)\n",
    "print(\"The shape of testY data :\", testY.shape, testY.dtype)\n",
    "print(\"TestY[0]:\", testY[0])"
   ]
  },
  {
   "cell_type": "code",
   "execution_count": 17,
   "metadata": {
    "slideshow": {
     "slide_type": "slide"
    }
   },
   "outputs": [
    {
     "name": "stdout",
     "output_type": "stream",
     "text": [
      "=== what kind of type the values of lables===\n",
      "\n",
      "The type of traniY[0]: <class 'numpy.ndarray'>\n",
      "The type of trainY[0][0]: <class 'numpy.float64'>\n",
      "\n",
      "Extracting /home/hyunyoung2/My_lab/Hyunyoung2_Machine_Learning/Tutorial/Tensorflow/01.DataSetting/MNIST/data/MNIST_Dataset/train-images-idx3-ubyte.gz\n",
      "Extracting /home/hyunyoung2/My_lab/Hyunyoung2_Machine_Learning/Tutorial/Tensorflow/01.DataSetting/MNIST/data/MNIST_Dataset/train-labels-idx1-ubyte.gz\n",
      "Extracting /home/hyunyoung2/My_lab/Hyunyoung2_Machine_Learning/Tutorial/Tensorflow/01.DataSetting/MNIST/data/MNIST_Dataset/t10k-images-idx3-ubyte.gz\n",
      "Extracting /home/hyunyoung2/My_lab/Hyunyoung2_Machine_Learning/Tutorial/Tensorflow/01.DataSetting/MNIST/data/MNIST_Dataset/t10k-labels-idx1-ubyte.gz\n",
      "\n",
      "=== what kind of type the values of lables===\n",
      "\n",
      "The type of traniY[0]: <class 'numpy.ndarray'>\n",
      "The type of trainY[0][0]: <class 'numpy.float64'>\n"
     ]
    }
   ],
   "source": [
    "# For checking what kind of type the value of trainY's lables is \n",
    "print(\"=== what kind of type the values of lables===\\n\")\n",
    "print(\"The type of traniY[0]:\", type(trainY[0]))\n",
    "print(\"The type of trainY[0][0]:\", type(trainY[0][0]))\n",
    "\n",
    "print()\n",
    "# For checking if one_hot is false, what kind of type the value of labels of trainY\n",
    "mnist = input_data.read_data_sets(final_dir, one_hot=False)\n",
    "TrainY = mnist.train.labels\n",
    "print(\"\\n=== what kind of type the values of lables===\\n\")\n",
    "print(\"The type of traniY[0]:\", type(trainY[0]))\n",
    "print(\"The type of trainY[0][0]:\", type(trainY[0][0]))"
   ]
  }
 ],
 "metadata": {
  "celltoolbar": "Slideshow",
  "kernelspec": {
   "display_name": "Python 3",
   "language": "python",
   "name": "python3"
  },
  "language_info": {
   "codemirror_mode": {
    "name": "ipython",
    "version": 3
   },
   "file_extension": ".py",
   "mimetype": "text/x-python",
   "name": "python",
   "nbconvert_exporter": "python",
   "pygments_lexer": "ipython3",
   "version": "3.5.2"
  }
 },
 "nbformat": 4,
 "nbformat_minor": 2
}
