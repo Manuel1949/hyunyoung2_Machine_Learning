{
 "cells": [
  {
   "cell_type": "markdown",
   "metadata": {
    "slideshow": {
     "slide_type": "slide"
    }
   },
   "source": [
    "#  What is the variable in Tensorflow?\n",
    "\n",
    "When you create model, you use variable to hold and update parameters. varibale are in-memory buffer containing tensors. The varibles must be explicitly initialized and can be saved to disk during and after training. Later on, You can restore it to exercise and analyze the model(**tf.train.Saver**).\n",
    "\n",
    "Programming of Tensorflow make a collection of ops producing tensors as **a graph**. Executing a collection of ops is moving a tensor between ops.\n",
    "\n",
    "Let's how to Create varialbe in Tensorflow.\n",
    "\n",
    "When you create a Variable, you pass a **Tensor** as its value to the **Variable()** constructor."
   ]
  },
  {
   "cell_type": "markdown",
   "metadata": {
    "slideshow": {
     "slide_type": "subslide"
    }
   },
   "source": [
    "```python\n",
    "# Create two variables.\n",
    "weights = tf.Variable(tf.random_normal([784, 200], stddev=0.35),\n",
    "                      name=\"weights\")\n",
    "biases = tf.Variable(tf.zeros([200]), name=\"biases\")\n",
    "```\n",
    "\n",
    "As you can check above, **tf.random_normal(shape)** and **tf.zeros(shape)** produce tensor.\n",
    "\n",
    "   - Calling **tf.Variable** adds several ops to the computational graph\n",
    "   \n",
    "       - A **varialbe** op that holds the variable value. \n",
    "       \n",
    "       - An initializer op that sets the variable to its value. This is actually as **tf.assign** op. \n",
    "       \n",
    "       - The ops for the initial value, such as **zeros** op for **bias** variable in  example above are also added the graph."
   ]
  },
  {
   "cell_type": "markdown",
   "metadata": {
    "slideshow": {
     "slide_type": "subslide"
    }
   },
   "source": [
    "##  How to Initialize a variable\n",
    "\n",
    "Variable initializers mus be explicitly run before other ops in your model of tensorflow can be run. \n",
    "\n",
    "The way to initialize varialbes : \n",
    "\n",
    "   - Add an op that run all the variable initializer and run that op before using the model(Currently, I am dealing with this way). \n",
    " \n",
    " \n",
    "   - Alternatively, You can restore variable values from a checkpoint file(I will not cover this here).\n",
    "   "
   ]
  },
  {
   "cell_type": "markdown",
   "metadata": {
    "slideshow": {
     "slide_type": "subslide"
    }
   },
   "source": [
    "### Use tf.global_variables_initializer()\n",
    "\n",
    "This op is to run varialble initialziers. Only run that op after you have fully constructed your model and launched it in a session:\n",
    "\n",
    "```python\n",
    "# Create two variables.\n",
    "weights = tf.Variable(tf.random_normal([784, 200], stddev=0.35),name=\"weights\")\n",
    "\n",
    "biases = tf.Variable(tf.zeros([200]), name=\"biases\")\n",
    "# a portion your molde operate ...\n",
    "# Add an op to initialize the variables.\n",
    "init_op = tf.global_variables_initializer()\n",
    "# Later, when launching the model\n",
    "with tf.Session() as sess:\n",
    "  # Run the init operation.\n",
    "  sess.run(init_op)\n",
    "  # ...\n",
    "  # Use the model\n",
    "  # ...\n",
    "```     "
   ]
  },
  {
   "cell_type": "markdown",
   "metadata": {
    "slideshow": {
     "slide_type": "subslide"
    }
   },
   "source": [
    "### Initialization from another Variable\n",
    "\n",
    "This way is using the initial value of another varialbe to initialize a variable. \n",
    "\n",
    "```python\n",
    "# Create a variable with a random value.\n",
    "weights = tf.Variable(tf.random_normal([784, 200], stddev=0.35),name=\"weights\")\n",
    "# Create another variable with the same value as 'weights'.\n",
    "w2 = tf.Variable(weights.initialized_value(), name=\"w2\")\n",
    "# Create another variable with twice the value of 'weights'\n",
    "w_twice = tf.Variable(weights.initialized_value() * 2.0, name=\"w_twice\")\n",
    "```\n",
    "\n",
    "\n",
    "### Summary of initializing variables\n",
    "\n",
    "As you can know above, **tf.global_variables_initializer()** initialize variables of a colloecntion, **tf.GraphKeys.GLOBAL_VARIBALES**.\n",
    "\n",
    "```python\n",
    " sesssion.run(tf.global_variables_initializer())\n",
    "```\n",
    "\n",
    "BUT, If you want to initialize variables yourself, use like the follwoing\n",
    "\n",
    "```python\n",
    " session.run(weights.initializer)\n",
    "```\n",
    "\n",
    "Also, you can inspect which variables have still now been initialized. \n",
    "\n",
    "```python\n",
    "print(session.run(tf.report_uninitialized_variables())\n",
    "```"
   ]
  },
  {
   "cell_type": "markdown",
   "metadata": {
    "slideshow": {
     "slide_type": "subslide"
    }
   },
   "source": [
    "# Variable Property\n",
    "\n",
    "With exception of **tf.Variable**, another types of tensor is immutable. i.e. during an execution of a model, a single tensor value is the same up to in the end of the executing. But **tf.Variable** can be changed by runing some ops on it. \n",
    "\n",
    "The big property of **tf.Variable** is:\n",
    "\n",
    "   - tf.Variable exists outside of the context of a single **session.run** call. \n",
    "   \n",
    "   \n",
    "   - Interally, a **tf.Variable** stores a persistent tensor. Specific ops on it allow you to read and modify the value of this tensor. And these modifications are visible across multiple **tf.Session**, So multiple workers can see the same values for a tf.Variable. \n",
    "   "
   ]
  },
  {
   "cell_type": "markdown",
   "metadata": {
    "slideshow": {
     "slide_type": "subslide"
    }
   },
   "source": [
    "```python\n",
    "def variables():\n",
    "    tf_variable = tf.Variable(tf.random_normal([2,2]), name=\"tf_variable_test\")\n",
    "    \n",
    "    return tf_variable\n",
    "\n",
    "# First create one tf_variable. \n",
    "result1 = variables()\n",
    "# Second, Another variable is created in the second call. \n",
    "result2 = variables()\n",
    "```\n",
    "\n",
    "As you see above, you have already one variable. But after calling the function of variable twice, This will create two variables. i.e. result1 and result2 indicate different variable.\n",
    "\n",
    "   - By default, every **tf.Variable** gets placed in the following two collections:\n",
    "       - **tf.GraphKeys.GLOBAL_VARIABLES**,  \n",
    "       - **tf.GraphKeys.TRAINABLE_VARIABLES**.\n",
    "   \n",
    "BUT, **tf.get_variable** function is the best way to only create a variable once. "
   ]
  },
  {
   "cell_type": "markdown",
   "metadata": {
    "slideshow": {
     "slide_type": "subslide"
    }
   },
   "source": [
    "# What is the tf.get_variable function?\n",
    "\n",
    "In Tensorflow, there are Basically two ways, those is using **tf.Variable** and **tf.get_variable()**.\n",
    "\n",
    "**tf.get_variable()** function can allows you to reuse a previously created variable of the same name. So this function make it easy to reuse a certain layer in a model.\n",
    "\n",
    "First of all, Here is how to call **tf.get_variable** function to create a variable.\n",
    "\n",
    "> tf.get_variable( name ,  shape , intitializer)\n",
    "\n",
    "the **tf.get_variable** is used to get a already created variable or create a new variable without a exting variable called name that you name when you call **tf.get_variable**.\n"
   ]
  },
  {
   "cell_type": "markdown",
   "metadata": {
    "slideshow": {
     "slide_type": "subslide"
    }
   },
   "source": [
    "To create a variable with **tf.get_variable**, enter the name and shape for a variable you want to creat. \n",
    "\n",
    "```python\n",
    "my_variable = tf.get_variable(\"my_variable\",  [2,2])\n",
    "```\n",
    "\n",
    "Also you can specify the initializer and datatype for a variable: \n",
    "\n",
    "```python\n",
    "my_specific_variable = tf.get_variable(\"my_specific_variable\", [2,3], dtype=tf.int32, initializer=tf.zeros_initializer)\n",
    "```\n",
    "\n",
    "But if not specifying datatype and initialzier, By default, in Tensorflow the datatype is tf.float32 and the initialzier is **tf.glorot_uniform_initializer**.\n",
    "\n",
    "BUT, If you use a tensor as initializer. you shoud not specify the variable shape, Because the shape of initializer will be used. \n",
    "\n",
    "```python\n",
    "other_variable = tf.get_variable(\"other_variable\", dtype=tf.int32, initializer=tf.constant([23, 42]))\n",
    "```"
   ]
  },
  {
   "cell_type": "markdown",
   "metadata": {
    "slideshow": {
     "slide_type": "subslide"
    }
   },
   "source": [
    "# Reference\n",
    "\n",
    "   - [Guides r0.12](https://www.tensorflow.org/versions/r0.12/how_tos/variables/)\n",
    "   \n",
    "   - [Intialization function of Tensorflow r0.12](https://www.tensorflow.org/versions/r0.12/api_docs/python/constant_op/)\n",
    "      \n",
    "   - [Sharing section of Howto of Tensorflow r0.12](https://www.tensorflow.org/versions/r0.12/how_tos/variable_scope/#how_does_variable_scope_work) \n",
    "      \n",
    "   - [Tensors section of Programmer's guide of Tensorflow](https://www.tensorflow.org/programmers_guide/tensors)\n",
    "     \n",
    "   - [Variables section of Programmer's guide of Tensorflow](https://www.tensorflow.org/programmers_guide/variables)"
   ]
  },
  {
   "cell_type": "code",
   "execution_count": 1,
   "metadata": {
    "slideshow": {
     "slide_type": "slide"
    }
   },
   "outputs": [
    {
     "name": "stdout",
     "output_type": "stream",
     "text": [
      "=== System version ===\n",
      "3.5.2 (default, Nov 23 2017, 16:37:01) \n",
      "[GCC 5.4.0 20160609] \n",
      "\n",
      "=== Tensorflow version ===\n",
      "1.4.0 \n",
      "\n"
     ]
    }
   ],
   "source": [
    "import sys\n",
    "import tensorflow as tf\n",
    "\n",
    "print(\"=== System version ===\")\n",
    "print(sys.version, \"\\n\")\n",
    "\n",
    "print(\"=== Tensorflow version ===\")\n",
    "print(tf.__version__, \"\\n\")"
   ]
  },
  {
   "cell_type": "code",
   "execution_count": 2,
   "metadata": {
    "slideshow": {
     "slide_type": "subslide"
    }
   },
   "outputs": [
    {
     "name": "stdout",
     "output_type": "stream",
     "text": [
      "=== Direct printing ===\n",
      "[array([[-0.95990753, -0.57442057,  0.83818573],\n",
      "       [-0.5376392 ,  0.06768322,  0.23095728]], dtype=float32), array([ 0.,  0.], dtype=float32)]\n",
      "\n",
      "=== Check variables ==\n",
      "weights: <tf.Variable 'weights:0' shape=(2, 3) dtype=float32_ref>\n",
      "biases: <tf.Variable 'biases:0' shape=(2,) dtype=float32_ref>\n"
     ]
    }
   ],
   "source": [
    "# practicing with tf.Variable and tf.get_variable.\n",
    "\n",
    "# Create two variables with tf.Variable.\n",
    "weights = tf.Variable(tf.random_normal([2, 3], stddev=0.35),\n",
    "                      name=\"weights\")\n",
    "biases = tf.Variable(tf.zeros([2]), name=\"biases\")\n",
    "\n",
    "global_init_op = tf.global_variables_initializer()\n",
    "\n",
    "# You can check  how to print symbolic variable and real value of a variable \n",
    "with tf.Session() as sess:\n",
    "    sess.run(global_init_op)\n",
    "    print(\"=== Direct printing ===\")\n",
    "    print(sess.run([weights, biases]))\n",
    "    weights_, biases_ = sess.run([weights, biases])\n",
    "    print(\"\\n=== Check variables ==\")\n",
    "    print(\"weights:\", weights)\n",
    "    print(\"biases:\", biases)    "
   ]
  },
  {
   "cell_type": "code",
   "execution_count": 3,
   "metadata": {
    "slideshow": {
     "slide_type": "subslide"
    }
   },
   "outputs": [
    {
     "name": "stdout",
     "output_type": "stream",
     "text": [
      "=== Direct printing ===\n",
      "[array([[ 0.12704305, -0.80855757],\n",
      "       [-0.58170474,  0.86554688]], dtype=float32), array([[ 0.62418509,  0.58735532],\n",
      "       [-1.05340075, -1.50600588]], dtype=float32)]\n",
      "\n",
      "=== Check variables ==\n",
      "result1: [[ 0.12704305 -0.80855757]\n",
      " [-0.58170474  0.86554688]]\n",
      "result2: [[ 0.62418509  0.58735532]\n",
      " [-1.05340075 -1.50600588]]\n"
     ]
    }
   ],
   "source": [
    "# Checking if tf.Variable is created newly, when you calls several times. \n",
    "def variables():\n",
    "    tf_variable = tf.Variable(tf.random_normal([2,2]), name=\"tf_variable_test\")\n",
    "    \n",
    "    return tf_variable\n",
    "\n",
    "# First create one tf_variable. \n",
    "result1 = variables()\n",
    "# Second, Another variable is created in the second call. \n",
    "result2 = variables()\n",
    "\n",
    "global_init_op = tf.global_variables_initializer()\n",
    "\n",
    "# You can notice it is different between result1 and result2.\n",
    "# So, whenever tf.Variable is called, tf.Variable create a new varialbe.\n",
    "with tf.Session() as sess:\n",
    "    sess.run(global_init_op)\n",
    "    print(\"=== Direct printing ===\")\n",
    "    print(sess.run([result1, result2]))\n",
    "    result1_, result2_ = sess.run([result1, result2])\n",
    "    print(\"\\n=== Check variables ==\")\n",
    "    print(\"result1:\", result1_)\n",
    "    print(\"result2:\", result2_)    "
   ]
  },
  {
   "cell_type": "code",
   "execution_count": 4,
   "metadata": {
    "slideshow": {
     "slide_type": "subslide"
    }
   },
   "outputs": [
    {
     "name": "stdout",
     "output_type": "stream",
     "text": [
      "=== Direct printing ===\n",
      "[array([[-0.36964381,  0.70357513],\n",
      "       [ 0.30886102,  0.22468638]], dtype=float32), array([[0, 0, 0],\n",
      "       [0, 0, 0]], dtype=int32), array([3, 2], dtype=int32)]\n",
      "\n",
      "=== Check variables ==\n",
      "my_variable: [[-0.36964381  0.70357513]\n",
      " [ 0.30886102  0.22468638]]\n",
      "my_specific_variable: [[0 0 0]\n",
      " [0 0 0]]\n",
      "other_variable: [3 2]\n"
     ]
    }
   ],
   "source": [
    "# Create variable with tf.get_variable()\n",
    "\n",
    "# if you don't specify initializer, by default, tf.glorot_uniform_initializer\n",
    "my_variable = tf.get_variable(\"my_variable\",  [2,2])\n",
    "# Here specifying a certain initializer like tf.zeros_initializer)\n",
    "my_specific_variable = tf.get_variable(\"my_specific_variable\", [2,3], dtype=tf.int32, initializer=tf.zeros_initializer)\n",
    "\n",
    "other_variable = tf.get_variable(\"other_variable\", dtype=tf.int32, initializer=tf.constant([3, 2]))\n",
    "\n",
    "global_init_op = tf.global_variables_initializer()\n",
    "\n",
    "with tf.Session() as sess:\n",
    "    sess.run(global_init_op)\n",
    "    print(\"=== Direct printing ===\")\n",
    "    print(sess.run([my_variable, my_specific_variable, other_variable]))\n",
    "    my_variable_, my_specific_variable_, other_variable_ = sess.run([my_variable, my_specific_variable, other_variable])\n",
    "    print(\"\\n=== Check variables ==\")\n",
    "    print(\"my_variable:\", my_variable_)\n",
    "    print(\"my_specific_variable:\", my_specific_variable_)\n",
    "    print(\"other_variable:\", other_variable_)"
   ]
  }
 ],
 "metadata": {
  "celltoolbar": "Slideshow",
  "kernelspec": {
   "display_name": "Python 3",
   "language": "python",
   "name": "python3"
  },
  "language_info": {
   "codemirror_mode": {
    "name": "ipython",
    "version": 3
   },
   "file_extension": ".py",
   "mimetype": "text/x-python",
   "name": "python",
   "nbconvert_exporter": "python",
   "pygments_lexer": "ipython3",
   "version": "3.5.2"
  }
 },
 "nbformat": 4,
 "nbformat_minor": 2
}
