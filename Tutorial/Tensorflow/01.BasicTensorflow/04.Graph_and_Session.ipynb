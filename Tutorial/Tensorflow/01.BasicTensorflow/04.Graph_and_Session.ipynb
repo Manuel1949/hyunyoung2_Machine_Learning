{
 "cells": [
  {
   "cell_type": "markdown",
   "metadata": {},
   "source": [
    "# What is the graph in Tensorflow?\n",
    "\n",
    "Tensorflow is a graph of computation. it is comprised of **nodes(tf.Operation)** and **edge(tf.Tensor)** as a graph. When you call API of Tensorflow, each function of API is regarded as **a node(tf.operation)** in a graph. and each function return a tensor. i.e. tensor is the return value of each API. So each tensor move between **nodes(tf.Operation)**.\n",
    "\n",
    "Tensorflow programs are usually structured into a construction phase that assembles a graph, and an execution phase that a session to execute ops in the graph. \n",
    "\n",
    "the two phase existing together look like:\n",
    "\n",
    "![](https://raw.githubusercontent.com/hyunyoung2/hyunyoung2_Machine_Learning/master/Tutorial/Tensorflow/01.BasicTensorflow/images/04.Graph_and_Session/tensors_flowing.gif)\n",
    "\n",
    "on the above figure. each nodes represent **tf.Operation** and each edges represent **tf.Tensor**. Tensorflow API function construct new tf.Operation(node) and tf.Tensor(edge) objects and add them to a tf.Graph, such as a default graph. i.e. Tensorflow provides a default graph that is an implicit argument to all API functions in the same contexts. \n",
    "\n",
    "To sum up, \n",
    "\n",
    "  - programming is to draw a graph of computation calling API of Tensorflow. At this time. If you don't set another graph up, You basically draw computation into a default graph.\n",
    "  \n",
    "  - running Session is to put your graph of computation into physical devices such as CPU, GPU, and you can execute sub-graph or total-graph using method to execute them such as **session.run()** fucntion. \n"
   ]
  },
  {
   "cell_type": "markdown",
   "metadata": {},
   "source": [
    "# What is the Session in Tensorflow?\n",
    "\n",
    "Session is responsible for matching physical device and provide methods to execute them. i.e. in a session. you will put a graph comprised of **nodes(ops) and tensor**, into device to execute by calling a certain method(**tf.Session().run()**). \n",
    "\n",
    "When you call **tf.Session().run(a list of fetch)**, it determines the return values, and may be a **tf.Operation**, a **tf.Tensor**, or a **tensor-like type** such as **tf.Variable**. These fetches determine what subgraph of the overall **tf.Graph** must be executed to produce the result: this is the subgraph that contains all operation named in the fetch list, plus all operations whose outputs are used to compute the value of the fetches. For example, the following code fragment shows how different arguments to **tf.Session().run()** cause different subgraphs to be executed.\n",
    "\n",
    "```python\n",
    "# Let's walk throug how to execute a graph to get value of ops.\n",
    "x = tf.constant([[37.0, -23.0], [1.0, 4.0]])\n",
    "w = tf.Variable(tf.random_uniform([2, 2]))\n",
    "y = tf.matmul(x, w)\n",
    "output = tf.nn.softmax(y)\n",
    "global_init_op = w.initializer\n",
    "print(\"=== checking Variables ===\")\n",
    "print(\"x:\", x, \"\\nw:\", w, \"\\ny:\", y, \"\\n\")\n",
    "\n",
    "with tf.Session() as sess:\n",
    "    \n",
    "    # Run the initializer on `w`.\n",
    "    sess.run(global_init_op)\n",
    "\n",
    "    # Evaluate `output`. `sess.run(output)` will return a NumPy array containing\n",
    "    # the result of the computation.\n",
    "    print(sess.run(output))\n",
    "    print(\"=== checking Variables ===\")\n",
    "    print(\"x:\", x, \"\\nw:\", w, \"\\ny:\", y, \"\\n\")\n",
    "    \n",
    "    # Evaluate `y` and `output`. Note that `y` will only be computed once, and its\n",
    "    # result used both to return `y_val` and as an input to the `tf.nn.softmax()`\n",
    "    # op. Both `y_val` and `output_val` will be NumPy arrays.\n",
    "    y_val, output_val = sess.run([y, output])\n",
    "    \n",
    "    print(\"=== result of session run ===\")\n",
    "    print(\"y_val:\\n\", y_val)\n",
    "    print(\"output_val:\\n\", output_val,\"\\n\")\n",
    "    \n",
    "    for i in range(3):\n",
    "        print(\"=== checking Variables:\", i ,\"===\")\n",
    "        print(i,\"- x:\", x, \"\\nw:\", w, \"\\ny:\", y, \"\\n\")\n",
    "```\n",
    "\n",
    "As you check the code above, in particular, y is computated once for a session. So if y is used several times, just after a computation of y, when it is needed, the evaluated value is reused."
   ]
  },
  {
   "cell_type": "markdown",
   "metadata": {},
   "source": [
    "Sometimes, **tf.Session().run()** aslo optionally takes a dicationary of feeds, which is a mapping from **tf.Tensor** objects to values(typically Python scalars, lists or Numpy array) such as typically **tf.placeholder** tensors. the value will be substituted for those tensors in the execution like this:\n",
    "\n",
    "```python\n",
    "# Define a placeholder that expects a vector of three floating-point values,\n",
    "# and a computation that depends on it.\n",
    "x = tf.placeholder(tf.float32, shape=[3])\n",
    "y = tf.square(x)\n",
    "\n",
    "with tf.Session() as sess:\n",
    "    # Feeding a value changes the result that is returned when you evaluate `y`.\n",
    "    print(sess.run(y, feed_dict={x: [1.0, 2.0, 3.0]})  # => \"[1.0, 4.0, 9.0]\"\n",
    "    print(sess.run(y, feed_dict={x: [0.0, 0.0, 5.0]})  # => \"[0.0, 0.0, 25.0]\"\n",
    "\n",
    "    # Raises `tf.errors.InvalidArgumentError`, because you must feed a value for\n",
    "    # a `tf.placeholder()` when evaluating a tensor that depends on it.\n",
    "    #sess.run(y) # error will happen\n",
    "\n",
    "    # Raises `ValueError`, because the shape of `37.0` does not match the shape\n",
    "    # of placeholder `x`.\n",
    "    #sess.run(y, {x: 37.0})  # error will happen```\n",
    "```\n"
   ]
  },
  {
   "cell_type": "markdown",
   "metadata": {},
   "source": [
    "## visualizing a graph of Tensorflow using tensorboard\n",
    "\n",
    "If you want to debug with a graph comprised of node(ops) and tensor on tensorboard. \n",
    "\n",
    "call **tf.summary.FileWriter(path you want to store,  graph you want to print)**.\n",
    "\n",
    "```python\n",
    "# Define a placeholder that expects a vector of three floating-point values,\n",
    "# and a computation that depends on it.\n",
    "x = tf.placeholder(tf.float32, shape=[3])\n",
    "y = tf.square(x)\n",
    "\n",
    "with tf.Session() as sess:\n",
    "    # `sess.graph` provides access to the graph used in a `tf.Session`.\n",
    "    writer = tf.summary.FileWriter(\"./log/...\", sess.graph)\n",
    "\n",
    "    # Feeding a value changes the result that is returned when you evaluate `y`.\n",
    "    print(sess.run(y, feed_dict={x: [1.0, 2.0, 3.0]})  # => \"[1.0, 4.0, 9.0]\"\n",
    "    print(sess.run(y, feed_dict={x: [0.0, 0.0, 5.0]})  # => \"[0.0, 0.0, 25.0]\"\n",
    "\n",
    "    # Raises `tf.errors.InvalidArgumentError`, because you must feed a value for\n",
    "    # a `tf.placeholder()` when evaluating a tensor that depends on it.\n",
    "    #sess.run(y) # error will happen\n",
    "\n",
    "    # Raises `ValueError`, because the shape of `37.0` does not match the shape\n",
    "    # of placeholder `x`.\n",
    "    #sess.run(y, {x: 37.0})  # error will happen\n",
    "```\n",
    "\n",
    "And then, launch a directory path of **tf.summary.FileWriter** with tensorboard --logdir=**path of log directory**."
   ]
  },
  {
   "cell_type": "markdown",
   "metadata": {},
   "source": [
    "# Reference\n",
    "\n",
    "  - [r1.4 graph and session section of programmer's guide of Tensorflow](https://www.tensorflow.org/programmers_guide/graphs)\n",
    "  \n",
    "  - [r0.12 Basic usage of Tensorflow](https://www.tensorflow.org/versions/r0.12/get_started/basic_usage)"
   ]
  },
  {
   "cell_type": "code",
   "execution_count": 1,
   "metadata": {},
   "outputs": [
    {
     "name": "stdout",
     "output_type": "stream",
     "text": [
      "=== System version ===\n",
      "3.5.2 (default, Nov 23 2017, 16:37:01) \n",
      "[GCC 5.4.0 20160609] \n",
      "\n",
      "=== Tensorflow version ===\n",
      "1.4.0 \n",
      "\n"
     ]
    }
   ],
   "source": [
    "import sys\n",
    "import tensorflow as tf\n",
    "\n",
    "print(\"=== System version ===\")\n",
    "print(sys.version, \"\\n\")\n",
    "\n",
    "print(\"=== Tensorflow version ===\")\n",
    "print(tf.__version__, \"\\n\")"
   ]
  },
  {
   "cell_type": "code",
   "execution_count": 2,
   "metadata": {},
   "outputs": [
    {
     "name": "stdout",
     "output_type": "stream",
     "text": [
      "=== checking Variables ===\n",
      "x: Tensor(\"Const:0\", shape=(2, 2), dtype=float32) \n",
      "w: <tf.Variable 'Variable:0' shape=(2, 2) dtype=float32_ref> \n",
      "y: Tensor(\"MatMul:0\", shape=(2, 2), dtype=float32) \n",
      "\n",
      "[[  1.41795764e-09   1.00000000e+00]\n",
      " [  2.74206579e-01   7.25793362e-01]]\n",
      "=== checking Variables ===\n",
      "x: Tensor(\"Const:0\", shape=(2, 2), dtype=float32) \n",
      "w: <tf.Variable 'Variable:0' shape=(2, 2) dtype=float32_ref> \n",
      "y: Tensor(\"MatMul:0\", shape=(2, 2), dtype=float32) \n",
      "\n",
      "=== result of session run ===\n",
      "y_val:\n",
      " [[  1.98811913  22.36216736]\n",
      " [  1.72741115   2.7007947 ]]\n",
      "output_val:\n",
      " [[  1.41795764e-09   1.00000000e+00]\n",
      " [  2.74206579e-01   7.25793362e-01]] \n",
      "\n",
      "=== checking Variables: 0 ===\n",
      "0 - x: Tensor(\"Const:0\", shape=(2, 2), dtype=float32) \n",
      "w: <tf.Variable 'Variable:0' shape=(2, 2) dtype=float32_ref> \n",
      "y: Tensor(\"MatMul:0\", shape=(2, 2), dtype=float32) \n",
      "\n",
      "=== checking Variables: 1 ===\n",
      "1 - x: Tensor(\"Const:0\", shape=(2, 2), dtype=float32) \n",
      "w: <tf.Variable 'Variable:0' shape=(2, 2) dtype=float32_ref> \n",
      "y: Tensor(\"MatMul:0\", shape=(2, 2), dtype=float32) \n",
      "\n",
      "=== checking Variables: 2 ===\n",
      "2 - x: Tensor(\"Const:0\", shape=(2, 2), dtype=float32) \n",
      "w: <tf.Variable 'Variable:0' shape=(2, 2) dtype=float32_ref> \n",
      "y: Tensor(\"MatMul:0\", shape=(2, 2), dtype=float32) \n",
      "\n"
     ]
    }
   ],
   "source": [
    "# Let's walk throug how to execute a graph to get value of ops.\n",
    "x = tf.constant([[37.0, -23.0], [1.0, 4.0]])\n",
    "w = tf.Variable(tf.random_uniform([2, 2]))\n",
    "y = tf.matmul(x, w)\n",
    "output = tf.nn.softmax(y)\n",
    "global_init_op = w.initializer\n",
    "print(\"=== checking Variables ===\")\n",
    "print(\"x:\", x, \"\\nw:\", w, \"\\ny:\", y, \"\\n\")\n",
    "\n",
    "with tf.Session() as sess:\n",
    "    \n",
    "    # Run the initializer on `w`.\n",
    "    sess.run(global_init_op)\n",
    "\n",
    "    # Evaluate `output`. `sess.run(output)` will return a NumPy array containing\n",
    "    # the result of the computation.\n",
    "    print(sess.run(output))\n",
    "    print(\"=== checking Variables ===\")\n",
    "    print(\"x:\", x, \"\\nw:\", w, \"\\ny:\", y, \"\\n\")\n",
    "    \n",
    "    # Evaluate `y` and `output`. Note that `y` will only be computed once, and its\n",
    "    # result used both to return `y_val` and as an input to the `tf.nn.softmax()`\n",
    "    # op. Both `y_val` and `output_val` will be NumPy arrays.\n",
    "    y_val, output_val = sess.run([y, output])\n",
    "    \n",
    "    print(\"=== result of session run ===\")\n",
    "    print(\"y_val:\\n\", y_val)\n",
    "    print(\"output_val:\\n\", output_val,\"\\n\")\n",
    "    \n",
    "    for i in range(3):\n",
    "        print(\"=== checking Variables:\", i ,\"===\")\n",
    "        print(i,\"- x:\", x, \"\\nw:\", w, \"\\ny:\", y, \"\\n\")"
   ]
  },
  {
   "cell_type": "code",
   "execution_count": 3,
   "metadata": {},
   "outputs": [
    {
     "name": "stdout",
     "output_type": "stream",
     "text": [
      "y: [ 1.  4.  9.]\n",
      "y: [  0.   0.  25.]\n"
     ]
    }
   ],
   "source": [
    "# Define a placeholder that expects a vector of three floating-point values,\n",
    "# and a computation that depends on it.\n",
    "x = tf.placeholder(tf.float32, shape=[3])\n",
    "y = tf.square(x)\n",
    "\n",
    "with tf.Session() as sess:\n",
    "    # Feeding a value changes the result that is returned when you evaluate `y`.\n",
    "    print(\"y:\", sess.run(y, feed_dict={x: [1.0, 2.0, 3.0]}))  # => \"[1.0, 4.0, 9.0]\"\n",
    "    print(\"y:\", sess.run(y, feed_dict={x: [0.0, 0.0, 5.0]}))  # => \"[0.0, 0.0, 25.0]\"\n",
    "\n",
    "    # Raises `tf.errors.InvalidArgumentError`, because you must feed a value for\n",
    "    # a `tf.placeholder()` when evaluating a tensor that depends on it.\n",
    "    #sess.run(y) # error will happen\n",
    "\n",
    "    # Raises `ValueError`, because the shape of `37.0` does not match the shape\n",
    "    # of placeholder `x`.\n",
    "    #sess.run(y, {x: 37.0})  # error will happen```"
   ]
  },
  {
   "cell_type": "code",
   "execution_count": 4,
   "metadata": {},
   "outputs": [
    {
     "name": "stdout",
     "output_type": "stream",
     "text": [
      "y: [ 1.  4.  9.]\n",
      "y: [  0.   0.  25.]\n"
     ]
    }
   ],
   "source": [
    "# Define a placeholder that expects a vector of three floating-point values,\n",
    "# and a computation that depends on it.\n",
    "x = tf.placeholder(tf.float32, shape=[3])\n",
    "y = tf.square(x)\n",
    "\n",
    "with tf.Session() as sess:\n",
    "    # `sess.graph` provides access to the graph used in a `tf.Session`.\n",
    "    writer = tf.summary.FileWriter(\"./log/\", sess.graph)\n",
    "\n",
    "    # Feeding a value changes the result that is returned when you evaluate `y`.\n",
    "    print(\"y:\", sess.run(y, feed_dict={x: [1.0, 2.0, 3.0]}))  # => \"[1.0, 4.0, 9.0]\"\n",
    "    print(\"y:\", sess.run(y, feed_dict={x: [0.0, 0.0, 5.0]}))  # => \"[0.0, 0.0, 25.0]\""
   ]
  }
 ],
 "metadata": {
  "kernelspec": {
   "display_name": "Python 3",
   "language": "python",
   "name": "python3"
  },
  "language_info": {
   "codemirror_mode": {
    "name": "ipython",
    "version": 3
   },
   "file_extension": ".py",
   "mimetype": "text/x-python",
   "name": "python",
   "nbconvert_exporter": "python",
   "pygments_lexer": "ipython3",
   "version": "3.5.2"
  }
 },
 "nbformat": 4,
 "nbformat_minor": 2
}
