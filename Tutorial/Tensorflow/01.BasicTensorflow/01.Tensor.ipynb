{
 "cells": [
  {
   "cell_type": "markdown",
   "metadata": {
    "slideshow": {
     "slide_type": "slide"
    }
   },
   "source": [
    "# What is the tensor?\n",
    "\n",
    "When you do programming of tensorflow, _Tensor is everything_. I mean the programming of Tensorflow is building a graph that freely transport tensors. Tensor in Tensorflow is a **generalization of vectos and matrices**. it potentially contains higher dimensions. Internally, Tensorflow representas tensors as n-dimension arrays of base datatype(**string, int32, float32 and so on**). \n",
    "\n",
    "A **tf.Tensor** has two properties : \n",
    "\n",
    "   - a data type(float32, int32 or string and so on): each element in the Tensor has the same datatype. \n",
    "   \n",
    "   - a shape: The number of dimension tensor has and the size of each dimension\n",
    "       - shape can be partially or fully known.\n",
    "       \n",
    "There are some types of tensor :\n",
    "\n",
    "   - tf.Variable,  tf.Constant, tf.Placeholder, tf.SparseTensor.\n",
    "    \n",
    "In the **key point**, with exceptoin of **tf.Variable**, **The value of a tensor is immutable**, which means that in the context of a single execution tensors only have a single value.\n"
   ]
  },
  {
   "cell_type": "markdown",
   "metadata": {
    "slideshow": {
     "slide_type": "subslide"
    }
   },
   "source": [
    "## Rank vs Shape \n",
    "\n",
    "   - rank: tensor object's number of dimensions.\n",
    "   \n",
    "```python\n",
    "# Rank 0 (scalar)\n",
    "animal = tf.Variable(\"Elephant\", tf.string)\n",
    "integer = tf.Variable(451, tf.int32)\n",
    "# Rank 1 (1-dimension, vector)\n",
    "floating_array  = tf.Variable([3.14159, 2.71828], tf.float32)\n",
    "# Rank 2 (2-dimension, matrix)\n",
    "# Normally, A rank 2 tensor object consists of as least one row and at least one column.\n",
    "matrix = tf.Variable([[7],[11]], tf.int32)\n",
    "# To check what version of rank each variables is?\n",
    "rank0 = tf.rank(animal)\n",
    "rank1 = tf.rank(floating_array)\n",
    "rank2 = tf.rank(matrix)\n",
    "```\n"
   ]
  },
  {
   "cell_type": "markdown",
   "metadata": {
    "slideshow": {
     "slide_type": "subslide"
    }
   },
   "source": [
    "   - shape: tensor object's the number of elements in each dimension. \n",
    "\n",
    "```python\n",
    "# Every element in a tensor is one \n",
    "rank_three_tensor = tf.ones([3, 4, 5])\n",
    "# To check the shape of a tensor\n",
    "tf.shape(rank_three_tensor)\n",
    "# To reshape of a tensor(rank 2)\n",
    "matrix = tf.reshape(rank_three_tensor, [6, 10])\n",
    "# To Check what kind of shape matrix has\n",
    "tf.shape(matrix)\n",
    "tf.shape(matrix)[0]\n",
    "tf.shape(matrix)[1]\n",
    "```"
   ]
  },
  {
   "cell_type": "markdown",
   "metadata": {
    "slideshow": {
     "slide_type": "subslide"
    }
   },
   "source": [
    "There are three notation used in Tensorflow:\n",
    "\n",
    "   - rank, shape, dimencsion number\n",
    "\n",
    "|  Rank  |      Shape      | dimension number |    Example    |\n",
    "| :----: | :------------- | ---------------- | :------------- |\n",
    "| 0 | [] | 0-D | A 0-D tensor, A scalar. |\n",
    "| 1 | [D0] | 1-D | A 1-D tensor with shape[3]. |\n",
    "| 2 | [D0, D1] | 2-D | A 2-D tensor with shape[3,2]|\n",
    "| n | [D0, D0, ... , Dn-1] | n-D | A n-D tensor with shape[D0, D1,..., Dn-1] |\n",
    "\n",
    "If you don't specify datatye of python object, when you create a **tf.tensor**, Tensorflow automatically choose datatype that can represent your data. \n",
    "\n",
    "   - Python's Integers --> tf.int32\n",
    "   \n",
    "   \n",
    "   - Python's Floating point numbers ---> tf.float32"
   ]
  },
  {
   "cell_type": "markdown",
   "metadata": {
    "slideshow": {
     "slide_type": "subslide"
    }
   },
   "source": [
    "# Reference\n",
    "\n",
    "   - [Guides r0.12](https://www.tensorflow.org/versions/r0.12/how_tos/variables/)\n",
    "   \n",
    "   - [Intialization function of tensorflow r0.12](https://www.tensorflow.org/versions/r0.12/api_docs/python/constant_op/)\n",
    "      \n",
    "   - [Tensors section of Programmer's guide of Tensorflow](https://www.tensorflow.org/programmers_guide/tensors)\n",
    "   \n",
    "   - [Variables section of Programmer's guide of Tensorflow](https://www.tensorflow.org/programmers_guide/variables)"
   ]
  },
  {
   "cell_type": "code",
   "execution_count": 1,
   "metadata": {
    "slideshow": {
     "slide_type": "slide"
    }
   },
   "outputs": [
    {
     "name": "stdout",
     "output_type": "stream",
     "text": [
      "=== System version ===\n",
      "3.5.2 (default, Nov 23 2017, 16:37:01) \n",
      "[GCC 5.4.0 20160609] \n",
      "\n",
      "=== Tensorflow version ===\n",
      "1.4.0 \n",
      "\n"
     ]
    }
   ],
   "source": [
    "import sys\n",
    "import tensorflow as tf\n",
    "\n",
    "print(\"=== System version ===\")\n",
    "print(sys.version, \"\\n\")\n",
    "\n",
    "print(\"=== Tensorflow version ===\")\n",
    "print(tf.__version__, \"\\n\")"
   ]
  },
  {
   "cell_type": "code",
   "execution_count": 2,
   "metadata": {
    "slideshow": {
     "slide_type": "subslide"
    }
   },
   "outputs": [
    {
     "name": "stdout",
     "output_type": "stream",
     "text": [
      "=== check each variables ===\n",
      "animal: b'Elephant' | integer: 451\n",
      "floating array: [ 3.14159012  2.71828008] | matrix: [[ 7]\n",
      " [11]]\n",
      "rank0: 0 | rank1: 1 | rank2 2\n"
     ]
    }
   ],
   "source": [
    "# === What is the rank of tensor? ===\n",
    "# Rank 0 (scalar)\n",
    "animal = tf.Variable(\"Elephant\", tf.string)\n",
    "integer = tf.Variable(451, tf.int32)\n",
    "# Rank 1 (1-dimension, vector)\n",
    "floating_array  = tf.Variable([3.14159, 2.71828], tf.float32)\n",
    "# Rank 2 (2-dimension, matrix)\n",
    "# Normally, A rank 2 tensor object consists of as least one row and at least one column.\n",
    "matrix = tf.Variable([[7],[11]], tf.int32)\n",
    "# To check what version of rank each variables is?\n",
    "rank0 = tf.rank(animal)\n",
    "rank1 = tf.rank(floating_array)\n",
    "rank2 = tf.rank(matrix)\n",
    "\n",
    "global_init_op = tf.global_variables_initializer() \n",
    "\n",
    "with tf.Session() as sess:\n",
    "    sess.run(global_init_op)\n",
    "    #print(sess.run([animal, integer, floating_array, matrix, rank0, rank1, rank2]))\n",
    "    animal_, integer_, floating_array_, matrix_, rank0_, rank1_, rank2_ = sess.run([animal, integer, floating_array, matrix, rank0, rank1, rank2])\n",
    "    print(\"=== check each variables ===\")\n",
    "    print(\"animal:\", animal_, \"|\", \"integer:\", integer_)\n",
    "    print(\"floating array:\", floating_array_, \"|\", \"matrix:\", matrix_)\n",
    "    print(\"rank0:\", rank0_, \"|\", \"rank1:\", rank1_, \"|\", \"rank2\", rank2_)"
   ]
  },
  {
   "cell_type": "code",
   "execution_count": 3,
   "metadata": {
    "slideshow": {
     "slide_type": "subslide"
    }
   },
   "outputs": [],
   "source": [
    "# === What is the rank of shape? ===\n",
    "# Every element in a tensor is one \n",
    "rank_three_tensor = tf.ones([3, 2, 1])\n",
    "# To check the shape of a tensor\n",
    "shape_rank_three_tensor = tf.shape(rank_three_tensor)\n",
    "# To reshape of a tensor(rank 2)\n",
    "matrix = tf.reshape(rank_three_tensor, [1, 6])\n",
    "# To check evaluating with some number after reshaping \n",
    "m = matrix + 2\n",
    "# To Check what kind of shape matrix has\n",
    "shape = tf.shape(matrix)\n",
    "shape0 = tf.shape(matrix)[0]\n",
    "shape1 = tf.shape(matrix)[1]\n",
    "\n",
    "global_init_op = tf.global_variables_initializer() "
   ]
  },
  {
   "cell_type": "code",
   "execution_count": 4,
   "metadata": {
    "slideshow": {
     "slide_type": "subslide"
    }
   },
   "outputs": [
    {
     "name": "stdout",
     "output_type": "stream",
     "text": [
      "=== check each variables ===\n",
      "rank three tensor\n",
      ": [[[ 1.]\n",
      "  [ 1.]]\n",
      "\n",
      " [[ 1.]\n",
      "  [ 1.]]\n",
      "\n",
      " [[ 1.]\n",
      "  [ 1.]]]\n",
      "matrix of rank three tensor reshaped: Tensor(\"Reshape:0\", shape=(1, 6), dtype=float32)\n",
      "shape of matrix: [1 6] | shape[0] of matrix: 1 | shape[1] of matrix: 6\n",
      "matrix + 2 after reshaping: [[ 3.  3.  3.  3.  3.  3.]]\n",
      "\n",
      "=== Directly check matrix of rank three tensor reshaped ===\n",
      "[[ 1.  1.  1.  1.  1.  1.]]\n"
     ]
    }
   ],
   "source": [
    "with tf.Session() as sess:\n",
    "    sess.run(global_init_op)\n",
    "    #print(sess.run([rank_three_tensor, shape_rank_three_tensor, matrix, shape, shape0, shape1]))\n",
    "    rank_three_tensor_, shape_rank_three_tensor_, matrix_, shape_, shape0_, shape1_, m_ = sess.run([rank_three_tensor, shape_rank_three_tensor, matrix, shape, shape0, shape1, m])\n",
    "    print(\"=== check each variables ===\")\n",
    "    print(\"rank three tensor\\n:\", rank_three_tensor_)\n",
    "    print(\"matrix of rank three tensor reshaped:\", matrix)\n",
    "    print(\"shape of matrix:\", shape_, \"|\", \"shape[0] of matrix:\", shape0_, \"|\", \"shape[1] of matrix:\", shape1_)\n",
    "    print(\"matrix + 2 after reshaping:\", m_)\n",
    "    print(\"\\n=== Directly check matrix of rank three tensor reshaped ===\")\n",
    "    print(sess.run(matrix))"
   ]
  }
 ],
 "metadata": {
  "celltoolbar": "Slideshow",
  "kernelspec": {
   "display_name": "Python 3",
   "language": "python",
   "name": "python3"
  },
  "language_info": {
   "codemirror_mode": {
    "name": "ipython",
    "version": 3
   },
   "file_extension": ".py",
   "mimetype": "text/x-python",
   "name": "python",
   "nbconvert_exporter": "python",
   "pygments_lexer": "ipython3",
   "version": "3.5.2"
  }
 },
 "nbformat": 4,
 "nbformat_minor": 2
}
