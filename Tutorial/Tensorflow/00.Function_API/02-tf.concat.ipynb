{
 "cells": [
  {
   "cell_type": "markdown",
   "metadata": {},
   "source": [
    "# [tf.concat Function](https://www.tensorflow.org/versions/r1.8/api_docs/python/tf/concat)\n",
    "\n",
    "\n",
    "Just how to use tf.concat Function, that function concatenates tensor along one dimension you specified like this. \n",
    "\n",
    "tf.concat(list, dimension you want to concatenate). i.e. \n",
    "\n",
    "If tensors, values\\[i\\].shape is \\[D0, D1, ..., Daxis(i), ..., Dn\\], the resulting concatenation's shape is \n",
    "\n",
    "\\[D0, D1, ..., Raxis(concatenated), ..., Dn\\]\n",
    "\n",
    "In the case of the function, \n",
    "\n",
    "> Raxis = sum(Daxis(i))\n",
    "\n",
    "So That is the data from input tensors is joined along the axis dimension.\n",
    "\n",
    "Be careful of this following:\n",
    "\n",
    "The number of dimensions of the input tensors must match and all dimension except axis must be equal."
   ]
  },
  {
   "cell_type": "code",
   "execution_count": 1,
   "metadata": {},
   "outputs": [
    {
     "name": "stdout",
     "output_type": "stream",
     "text": [
      "=== Version checking ===\n",
      "The version of sys: \n",
      "3.5.2 (default, Nov 23 2017, 16:37:01) \n",
      "[GCC 5.4.0 20160609]\n",
      "Tensorflow version: 1.8.0\n",
      "========================\n"
     ]
    }
   ],
   "source": [
    "\"\"\"Example code for tf.concat(https://www.tensorflow.org/versions/r1.8/api_docs/python/tf/concat)\n",
    "\n",
    "tf.concat(\n",
    "    values,\n",
    "    axis,\n",
    "    name='concat'\n",
    ")\n",
    "\"\"\"\n",
    "\n",
    "import sys\n",
    "import tensorflow as tf\n",
    "\n",
    "print(\"=== Version checking ===\")\n",
    "print(\"The version of sys: \\n{}\".format(sys.version))\n",
    "print(\"Tensorflow version: {}\".format(tf.__version__))\n",
    "print(\"========================\")"
   ]
  },
  {
   "cell_type": "code",
   "execution_count": 2,
   "metadata": {},
   "outputs": [
    {
     "name": "stdout",
     "output_type": "stream",
     "text": [
      "===== Tensor Shape ======\n",
      "test1: Tensor(\"Const:0\", shape=(2, 3), dtype=int32)\n",
      "test2: Tensor(\"Const_1:0\", shape=(2, 3), dtype=int32)\n",
      "concat1 with D-0: Tensor(\"concat:0\", shape=(4, 3), dtype=int32)\n",
      "concat2 with D-1: Tensor(\"concat_1:0\", shape=(2, 6), dtype=int32)\n",
      "concat2_1 with D-0(-2): Tensor(\"concat_2:0\", shape=(4, 3), dtype=int32)\n",
      "concat2_2 with D-1(-1): Tensor(\"concat_3:0\", shape=(2, 6), dtype=int32)\n"
     ]
    }
   ],
   "source": [
    "test1 = tf.constant([[1, 2, 3], [4, 5, 6]])\n",
    "test2 = tf.constant([[7, 8, 9], [10, 11, 12]])\n",
    "\n",
    "concat1 = tf.concat([test1, test2], 0)\n",
    "concat2 = tf.concat([test1, test2], 1)\n",
    "\n",
    "# Also, you can use negative index, the order is opposite to the correct order. \n",
    "# I mean, concat1 is the same from concat1_1, and concat2 is the same from concat2_2\n",
    "concat2_1 = tf.concat([test1, test2], -2)\n",
    "concat2_2 = tf.concat([test1, test2], -1)\n",
    "\n",
    "print(\"===== Tensor Shape ======\")\n",
    "print(\"test1: {}\".format(test1))\n",
    "print(\"test2: {}\".format(test2))\n",
    "print(\"concat1 with D-0: {}\".format(concat1))\n",
    "print(\"concat2 with D-1: {}\".format(concat2))\n",
    "print(\"concat2_1 with D-0(-2): {}\".format(concat2_1))\n",
    "print(\"concat2_2 with D-1(-1): {}\".format(concat2_2))"
   ]
  },
  {
   "cell_type": "code",
   "execution_count": 3,
   "metadata": {},
   "outputs": [
    {
     "name": "stdout",
     "output_type": "stream",
     "text": [
      "test1: \n",
      "[[1 2 3]\n",
      " [4 5 6]], The shape: (2, 3)\n",
      "test2: \n",
      "[[ 7  8  9]\n",
      " [10 11 12]], The shape: (2, 3)\n",
      "concat1 with D-0: \n",
      "[[ 1  2  3]\n",
      " [ 4  5  6]\n",
      " [ 7  8  9]\n",
      " [10 11 12]], The shape: (4, 3)\n",
      "concat2 with D-1: \n",
      "[[ 1  2  3  7  8  9]\n",
      " [ 4  5  6 10 11 12]], The shape: (2, 6)\n",
      "concat2_1 with D-0(-2): \n",
      "[[ 1  2  3]\n",
      " [ 4  5  6]\n",
      " [ 7  8  9]\n",
      " [10 11 12]], The shape: (4, 3)\n",
      "concat2_2 with D-1(-1): \n",
      "[[ 1  2  3  7  8  9]\n",
      " [ 4  5  6 10 11 12]], The shape: (2, 6)\n"
     ]
    }
   ],
   "source": [
    "with tf.Session() as sess:\n",
    "    print(\"test1: \\n{}, The shape: {}\".format(sess.run(test1), test1.shape))\n",
    "    print(\"test2: \\n{}, The shape: {}\".format(sess.run(test2), test2.shape))\n",
    "    print(\"concat1 with D-0: \\n{}, The shape: {}\".format(sess.run(concat1), concat1.shape))\n",
    "    print(\"concat2 with D-1: \\n{}, The shape: {}\".format(sess.run(concat2), concat2.shape))\n",
    "    print(\"concat2_1 with D-0(-2): \\n{}, The shape: {}\".format(sess.run(concat2_1), concat2_1.shape))\n",
    "    print(\"concat2_2 with D-1(-1): \\n{}, The shape: {}\".format(sess.run(concat2_2), concat2_2.shape))"
   ]
  },
  {
   "cell_type": "markdown",
   "metadata": {},
   "source": [
    "For more example, with normal list of python. "
   ]
  },
  {
   "cell_type": "code",
   "execution_count": 4,
   "metadata": {},
   "outputs": [
    {
     "name": "stdout",
     "output_type": "stream",
     "text": [
      "===== Python list ======\n",
      "te1: [[[1, 2], [2, 3]], [[4, 4], [5, 3]]]\n",
      "te2: [[[7, 4], [8, 4]], [[2, 10], [15, 11]]]\n",
      "\n",
      "===== Tensor Shape ======\n",
      "conc1 with D-2: Tensor(\"concat_4:0\", shape=(2, 2, 4), dtype=int32)\n"
     ]
    }
   ],
   "source": [
    "te1 = [[[1, 2], [2, 3]], [[4, 4], [5, 3]]]\n",
    "te2 = [[[7, 4], [8, 4]], [[2, 10], [15, 11]]]\n",
    "\n",
    "conc1 = tf.concat([te1, te2], -1)\n",
    "\n",
    "\n",
    "print(\"===== Python list ======\")\n",
    "print(\"te1: {}\".format(te1))\n",
    "print(\"te2: {}\".format(te2))\n",
    "\n",
    "print(\"\\n===== Tensor Shape ======\")\n",
    "print(\"conc1 with D-2: {}\".format(conc1))"
   ]
  },
  {
   "cell_type": "code",
   "execution_count": 5,
   "metadata": {},
   "outputs": [
    {
     "name": "stdout",
     "output_type": "stream",
     "text": [
      "conc1: \n",
      "[[[ 1  2  7  4]\n",
      "  [ 2  3  8  4]]\n",
      "\n",
      " [[ 4  4  2 10]\n",
      "  [ 5  3 15 11]]], The shape: (2, 2, 4)\n"
     ]
    }
   ],
   "source": [
    "with tf.Session() as sess:\n",
    "    print(\"conc1: \\n{}, The shape: {}\".format(sess.run(conc1), conc1.shape))"
   ]
  },
  {
   "cell_type": "markdown",
   "metadata": {},
   "source": [
    "# Reference\n",
    " \n",
    " - [tf.concat Function](https://www.tensorflow.org/versions/r1.8/api_docs/python/tf/concat) in Tensorflow apidoc from version r1.8"
   ]
  }
 ],
 "metadata": {
  "kernelspec": {
   "display_name": "Python 3",
   "language": "python",
   "name": "python3"
  },
  "language_info": {
   "codemirror_mode": {
    "name": "ipython",
    "version": 3
   },
   "file_extension": ".py",
   "mimetype": "text/x-python",
   "name": "python",
   "nbconvert_exporter": "python",
   "pygments_lexer": "ipython3",
   "version": "3.5.2"
  }
 },
 "nbformat": 4,
 "nbformat_minor": 2
}
