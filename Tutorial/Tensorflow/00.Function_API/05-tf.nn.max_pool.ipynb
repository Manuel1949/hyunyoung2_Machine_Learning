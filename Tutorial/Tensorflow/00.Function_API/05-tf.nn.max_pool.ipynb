{
 "cells": [
  {
   "cell_type": "markdown",
   "metadata": {},
   "source": [
    "# [Pooling](https://www.tensorflow.org/versions/r1.8/api_docs/python/tf/nn/max_pool), in particular Max pooling\n",
    "\n",
    "Pooling helps over-fitting by abstracted form of the representation(e.g. image, activation features, etc.).\n",
    "\n",
    "Basically, pooling is down-sampling as follows. \n",
    "\n",
    "\n",
    "![Source: Stanford's CS231n github](https://raw.githubusercontent.com/hyunyoung2/hyunyoung2_Machine_Learning/master/Tutorial/Tensorflow/00.Function_API/Images/05-tf.nn.max_pool/Pooling.png)\n",
    "\n",
    "\n",
    "Max pooling performs max pooing on input, i.e. this take maximum value on input per ksize window.\n",
    "\n",
    "\n",
    "![Source: Stanford's CS231n github](https://raw.githubusercontent.com/hyunyoung2/hyunyoung2_Machine_Learning/master/Tutorial/Tensorflow/00.Function_API/Images/05-tf.nn.max_pool/max_poolling.png)\n",
    "\n"
   ]
  },
  {
   "cell_type": "code",
   "execution_count": 1,
   "metadata": {},
   "outputs": [
    {
     "name": "stdout",
     "output_type": "stream",
     "text": [
      "=== Version checking ===\n",
      "The version of sys: \n",
      "3.5.2 (default, Nov 23 2017, 16:37:01) \n",
      "[GCC 5.4.0 20160609]\n",
      "Tensorflow version: 1.8.0\n",
      "========================\n"
     ]
    }
   ],
   "source": [
    "\"\"\"Example code for tf.nn.max_pool(https://www.tensorflow.org/versions/r1.8/api_docs/python/tf/nn/max_pool)\n",
    "\n",
    "tf.nn.max_pool(\n",
    "    value,\n",
    "    ksize,\n",
    "    strides,\n",
    "    padding,\n",
    "    data_format='NHWC',\n",
    "    name=None\n",
    ")\n",
    "\"\"\"\n",
    "\n",
    "import sys\n",
    "import tensorflow as tf\n",
    "import numpy as np\n",
    "\n",
    "print(\"=== Version checking ===\")\n",
    "print(\"The version of sys: \\n{}\".format(sys.version))\n",
    "print(\"Tensorflow version: {}\".format(tf.__version__))\n",
    "print(\"========================\")"
   ]
  },
  {
   "cell_type": "markdown",
   "metadata": {},
   "source": [
    "Before pooling, Let's expect output's height and width. \n",
    "\n",
    "padding scheme is the same when you convolve the data of format **NHWC**. \n",
    "\n",
    "If you want another data format, use argument, data_format=\"NHWC\", \n",
    "\n",
    "This value, by default, is the format of **NHWC**.\n",
    "\n",
    "The following is the functions which calculate output's height and width, \n",
    "\n",
    "If you already know the list of **ksize** as well as in_height, in_width, and the list of stride. \n",
    "\n",
    "The list of ksize is similar with filter list on conv2d operation. \n",
    "\n",
    "Let's see an example which calculates output's height and width."
   ]
  },
  {
   "cell_type": "code",
   "execution_count": 2,
   "metadata": {},
   "outputs": [
    {
     "name": "stdout",
     "output_type": "stream",
     "text": [
      "What is height and width of output??????b\n",
      "VAILD padding is no padding\n",
      "output_height: 2.0\n",
      "output_width: 1\n"
     ]
    }
   ],
   "source": [
    "# max pooling verification after cnn text classification\n",
    "batch_size = 1\n",
    "in_height = 5 # the same from sequence length\n",
    "in_width = 1\n",
    "in_channels = 1\n",
    "\n",
    "filter_size = 2\n",
    "\n",
    "sequence_length = in_height\n",
    "\n",
    "strides = [1,1,1,1]\n",
    "\n",
    "filter_height = sequence_length-filter_size+1\n",
    "filter_width = 1\n",
    "\n",
    "ksize = [1, filter_height, filter_width, 1]\n",
    "\n",
    "def check_output_size_with_VALID(in_height, in_width, strides, filter_height, filter_width):\n",
    "    out_height = np.ceil(float(in_height - filter_height + 1) / float(strides[1]))\n",
    "    out_width  = np.ceil(float(in_width - filter_width + 1) / float(strides[2]))\n",
    "    print(\"VAILD padding is no padding\")\n",
    "    print(\"output_height: {}\".format(out_height))\n",
    "    print(\"output_width: {}\".format(in_width))\n",
    "    \n",
    "print(\"What is height and width of output??????b\")\n",
    "check_output_size_with_VALID(in_height, in_width, strides, filter_height, filter_width)    "
   ]
  },
  {
   "cell_type": "code",
   "execution_count": 3,
   "metadata": {},
   "outputs": [
    {
     "name": "stdout",
     "output_type": "stream",
     "text": [
      "What is height and width of output???????\n",
      "SAME has padding and it the smallest possible padding\n",
      "output_height: 5.0\n",
      "output_width: 1.0\n",
      "pad along height and width...\n",
      "pad along height: 3\n",
      "pad along width: 0\n",
      "Padding size on top, bottom, left and right\n",
      "top: 1\n",
      "bottom: 2\n",
      "left: 0\n",
      "right: 0\n"
     ]
    }
   ],
   "source": [
    "def check_output_size_with_SAME(in_height, in_width, strides, filter_height, filter_width):\n",
    "    out_height = np.ceil(float(in_height) / float(strides[1]))\n",
    "    out_width  = np.ceil(float(in_width) / float(strides[2]))\n",
    "    print(\"SAME has padding and it the smallest possible padding\")\n",
    "    print(\"output_height: {}\".format(out_height))\n",
    "    print(\"output_width: {}\".format(out_width))\n",
    "\n",
    "    if (in_height % strides[1] == 0):\n",
    "        pad_along_height = max(filter_height - strides[1], 0)\n",
    "    else:\n",
    "        pad_along_height = max(filter_height - (in_height % strides[1]), 0)\n",
    "    if (in_width % strides[2] == 0):\n",
    "        pad_along_width = max(filter_width - strides[2], 0)\n",
    "    else:\n",
    "        pad_along_width = max(filter_width - (in_width % strides[2]), 0)\n",
    "\n",
    "    pad_top = pad_along_height // 2\n",
    "    pad_bottom = pad_along_height - pad_top\n",
    "    pad_left = pad_along_width // 2\n",
    "    pad_right = pad_along_width - pad_left\n",
    "\n",
    "    print(\"pad along height and width...\")\n",
    "    print(\"pad along height: {}\".format(pad_along_height))\n",
    "    print(\"pad along width: {}\".format(pad_along_width))\n",
    "    pad_top = pad_along_height // 2 # divied by 2\n",
    "    pad_bottom = pad_along_height - pad_top\n",
    "    pad_left = pad_along_width // 2\n",
    "    pad_right = pad_along_width - pad_left    \n",
    "\n",
    "    print(\"Padding size on top, bottom, left and right\")\n",
    "    print(\"top: {}\".format(pad_top))\n",
    "    print(\"bottom: {}\".format(pad_bottom))\n",
    "    print(\"left: {}\".format(pad_left))\n",
    "    print(\"right: {}\".format(pad_right))   \n",
    "\n",
    "print(\"What is height and width of output???????\")\n",
    "check_output_size_with_SAME(in_height, in_width, strides, filter_height, filter_width)"
   ]
  },
  {
   "cell_type": "markdown",
   "metadata": {},
   "source": [
    "As you can see the resulting height and width of output from the function above, you could expect the pooling result as follows:"
   ]
  },
  {
   "cell_type": "code",
   "execution_count": 4,
   "metadata": {},
   "outputs": [
    {
     "name": "stdout",
     "output_type": "stream",
     "text": [
      "Original input data\n",
      "[[[[-0.35681868]]\n",
      "\n",
      "  [[ 0.25143647]]\n",
      "\n",
      "  [[ 0.3582734 ]]\n",
      "\n",
      "  [[ 0.3327062 ]]\n",
      "\n",
      "  [[ 0.32832396]]]]\n",
      "\n",
      "Max pooling with VALID Scheme\n",
      "[[[[0.3582734]]\n",
      "\n",
      "  [[0.3582734]]]]\n",
      "\n",
      "MAX polling with SAME Scheme\n",
      "[[[[0.3582734]]\n",
      "\n",
      "  [[0.3582734]]\n",
      "\n",
      "  [[0.3582734]]\n",
      "\n",
      "  [[0.3582734]]\n",
      "\n",
      "  [[0.3327062]]]]\n"
     ]
    }
   ],
   "source": [
    "input_ = tf.get_variable(\"input_data\", shape=[batch_size, in_height, in_width, in_channels], dtype=tf.float32)\n",
    "\n",
    "\n",
    "pooled_with_valid = tf.nn.max_pool(input_, \n",
    "                        ksize=ksize, \n",
    "                        strides=strides,\n",
    "                        padding=\"VALID\",\n",
    "                        name=\"Pooling_\")\n",
    "\n",
    "pooled_with_same = tf.nn.max_pool(input_, \n",
    "                        ksize=ksize, \n",
    "                        strides=strides,\n",
    "                        padding=\"SAME\",\n",
    "                        name=\"Pooling_\")\n",
    "\n",
    "\n",
    "init_op = tf.global_variables_initializer()\n",
    "\n",
    "with tf.Session() as sess:\n",
    "    sess.run(init_op)\n",
    "    print(\"\"\"Original input data\"\"\")\n",
    "    print(sess.run(input_))\n",
    "    print(\"\"\"\\nMax pooling with VALID Scheme\"\"\")\n",
    "    print(sess.run(pooled_with_valid))\n",
    "    print(\"\"\"\\nMAX polling with SAME Scheme\"\"\")\n",
    "    print(sess.run(pooled_with_same))"
   ]
  },
  {
   "cell_type": "markdown",
   "metadata": {},
   "source": [
    "# Reference\n",
    "\n",
    " - [Tensorflow Pooling ver r1.8](https://www.tensorflow.org/versions/r1.8/api_guides/python/nn#Pooling)\n",
    " \n",
    " - [Tensorlfow max pooling ver r1.8](https://www.tensorflow.org/versions/r1.8/api_docs/python/tf/nn/max_pool)\n",
    " \n",
    " - [Quora about what is the max pooling in convolutional neural network](https://www.quora.com/What-is-max-pooling-in-convolutional-neural-networks)"
   ]
  }
 ],
 "metadata": {
  "kernelspec": {
   "display_name": "Python 3",
   "language": "python",
   "name": "python3"
  },
  "language_info": {
   "codemirror_mode": {
    "name": "ipython",
    "version": 3
   },
   "file_extension": ".py",
   "mimetype": "text/x-python",
   "name": "python",
   "nbconvert_exporter": "python",
   "pygments_lexer": "ipython3",
   "version": "3.5.2"
  }
 },
 "nbformat": 4,
 "nbformat_minor": 2
}
